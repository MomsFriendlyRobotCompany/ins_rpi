{
 "cells": [
  {
   "cell_type": "markdown",
   "metadata": {},
   "source": [
    "# Video\n",
    "\n",
    "blah ...\n",
    "\n",
    "second try"
   ]
  },
  {
   "cell_type": "markdown",
   "metadata": {},
   "source": [
    "# Data Formats\n",
    "\n",
    "Data was saved to a `dict` with each key being a `list` full of `namedtuples`. The `Data_ts` hold the data plus a time stamp since the start of the data.\n",
    "\n",
    "- `imu`: accel, mag, gyros\n",
    "- `camera`: image bytes\n",
    "- `lidar`: array of (angle, range,) for each point"
   ]
  },
  {
   "cell_type": "code",
   "execution_count": 1,
   "metadata": {},
   "outputs": [],
   "source": [
    "%matplotlib inline \n",
    "from matplotlib import pyplot as plt\n",
    "import numpy as np"
   ]
  },
  {
   "cell_type": "code",
   "execution_count": 2,
   "metadata": {},
   "outputs": [],
   "source": [
    "from collections import namedtuple\n",
    "import time\n",
    "import pickle\n",
    "import cv2\n",
    "\n",
    "Data_ts = namedtuple('Data_ts', 'data timestamp')"
   ]
  },
  {
   "cell_type": "code",
   "execution_count": 4,
   "metadata": {},
   "outputs": [],
   "source": [
    "data = pickle.load( open( \"data.pickle\", \"rb\" ) )"
   ]
  },
  {
   "cell_type": "code",
   "execution_count": 30,
   "metadata": {},
   "outputs": [
    {
     "name": "stdout",
     "output_type": "stream",
     "text": [
      "Images found: 1000\n"
     ]
    }
   ],
   "source": [
    "imgs = [np.frombuffer(x[0], dtype=np.uint8).reshape((480,640)) for x in data['camera']]\n",
    "itime = [x[1] for x in data['camera']]\n",
    "\n",
    "print('Images found: {}'.format(len(imgs)))"
   ]
  },
  {
   "cell_type": "code",
   "execution_count": 26,
   "metadata": {},
   "outputs": [],
   "source": [
    "class VO(object):\n",
    "    def featureDetection(self):\n",
    "        thresh = dict(threshold=25, nonmaxSuppression=True);\n",
    "        fast = cv2.FastFeatureDetector_create(**thresh)\n",
    "        return fast\n",
    "    \n",
    "    def getK(self):\n",
    "        return np.array([[7.188560000000e+02, 0, 6.071928000000e+02],\n",
    "                          [0, 7.188560000000e+02, 1.852157000000e+02],\n",
    "                          [0, 0, 1]])\n",
    "\n",
    "    def getAbsoluteScale(self, f0, f1):\n",
    "        x_pre, y_pre, z_pre = f0\n",
    "        x    , y    , z     = f1\n",
    "        scale = np.sqrt((x-x_pre)**2 + (y-y_pre)**2 + (z-z_pre)**2)\n",
    "        return x, y, z, scale\n",
    "\n",
    "    def featureTracking(self, img_1, img_2, p1):\n",
    "        lk_params = dict(\n",
    "            winSize  = (21,21),\n",
    "            maxLevel = 3,\n",
    "            criteria = (cv2.TERM_CRITERIA_EPS | cv2.TERM_CRITERIA_COUNT, 30, 0.01))\n",
    "\n",
    "        p2, st, err = cv2.calcOpticalFlowPyrLK(img_1, img_2, p1, None, **lk_params)\n",
    "        st = st.reshape(st.shape[0])\n",
    "        ##find good one\n",
    "        p1 = p1[st==1]\n",
    "        p2 = p2[st==1]\n",
    "\n",
    "        return p1,p2\n",
    "    \n",
    "    def run(self, images):\n",
    "        #initialization\n",
    "    #     ground_truth =getTruePose()\n",
    "\n",
    "        img_1 = images[0]\n",
    "        img_2 = images[0]\n",
    "\n",
    "        if len(img_1) == 3:\n",
    "            gray_1 = cv2.cvtColor(img_1, cv2.COLOR_BGR2GRAY)\n",
    "            gray_2 = cv2.cvtColor(img_2, cv2.COLOR_BGR2GRAY)\n",
    "        else:\n",
    "            gray_1 = img_1\n",
    "            gray_2 = img_2\n",
    "\n",
    "        #find the detector\n",
    "        detector = self.featureDetection()\n",
    "        kp1      = detector.detect(img_1)\n",
    "        p1       = np.array([kp.pt for kp in kp1],dtype='float32')\n",
    "        p1, p2   = self.featureTracking(gray_1, gray_2, p1)\n",
    "\n",
    "        #Camera parameters\n",
    "        fc = 718.8560\n",
    "        pp = (640/2, 480/2)\n",
    "    #     K  = getK()\n",
    "\n",
    "        E, mask = cv2.findEssentialMat(p2, p1, fc, pp, cv2.RANSAC,0.999,1.0);\n",
    "        _, R, t, mask = cv2.recoverPose(E, p2, p1,focal=fc, pp = pp);\n",
    "\n",
    "        #initialize some parameters\n",
    "        MAX_FRAME     = 500\n",
    "        MIN_NUM_FEAT  = 150\n",
    "\n",
    "        preFeature = p2\n",
    "        preImage   = gray_2\n",
    "\n",
    "        R_f = R\n",
    "        t_f = t\n",
    "\n",
    "        maxError = 0\n",
    "        ret_pos = []\n",
    "\n",
    "        for numFrame in range(2, MAX_FRAME):\n",
    "\n",
    "#             if numFrame % 20 == 0:\n",
    "#                 print(numFrame)\n",
    "\n",
    "            if (len(preFeature) < MIN_NUM_FEAT):\n",
    "                feature   = detector.detect(preImage)\n",
    "                preFeature = np.array([ele.pt for ele in feature],dtype='float32')\n",
    "#                 print(\">> features found: \", len(preFeature))\n",
    "                if len(preFeature) < MIN_NUM_FEAT:\n",
    "                    continue\n",
    "\n",
    "            curImage_c = images[numFrame]\n",
    "\n",
    "            if len(curImage_c) == 3:\n",
    "                  curImage = cv2.cvtColor(currImage_c, cv2.COLOR_BGR2GRAY)\n",
    "            else:\n",
    "                  curImage = curImage_c\n",
    "\n",
    "            kp1 = detector.detect(curImage);\n",
    "            preFeature, curFeature = self.featureTracking(\n",
    "                preImage, \n",
    "                curImage, \n",
    "                preFeature)\n",
    "            E, mask = cv2.findEssentialMat(\n",
    "                curFeature, \n",
    "                preFeature, \n",
    "                fc, \n",
    "                pp, \n",
    "                cv2.RANSAC,\n",
    "                0.999,\n",
    "                1.0);\n",
    "\n",
    "    #         print(E)\n",
    "\n",
    "            _, R, t, mask = cv2.recoverPose(\n",
    "                E, \n",
    "                curFeature, \n",
    "                preFeature, \n",
    "                focal=fc, \n",
    "                pp = pp);\n",
    "\n",
    "    #         truth_x, truth_y, truth_z, absolute_scale = getAbsoluteScale(\n",
    "    #             ground_truth[numFrame-1], ground_truth[numFrame])\n",
    "\n",
    "    #         if numFrame % 20 == 0:\n",
    "    #             print('scale', absolute_scale)\n",
    "\n",
    "            absolute_scale = 1.0\n",
    "\n",
    "            if absolute_scale > 0.1:\n",
    "                t_f = t_f + absolute_scale*R_f.dot(t)\n",
    "                R_f = R.dot(R_f)\n",
    "            else:\n",
    "                print(\"crap ... bad scale:\", absolute_scale)\n",
    "\n",
    "            preImage = curImage\n",
    "            preFeature = curFeature\n",
    "\n",
    "    #         ret_pos.append((t_f[0], t_f[2],))\n",
    "            ret_pos.append(t_f)\n",
    "\n",
    "        return ret_pos"
   ]
  },
  {
   "cell_type": "code",
   "execution_count": 27,
   "metadata": {},
   "outputs": [],
   "source": [
    "vo = VO()\n",
    "pos = vo.run(imgs)"
   ]
  },
  {
   "cell_type": "code",
   "execution_count": 38,
   "metadata": {},
   "outputs": [],
   "source": [
    "x = [float(x[0]) for x in pos]\n",
    "y = [float(x[1]) for x in pos]\n",
    "z = [float(x[2]) for x in pos]"
   ]
  },
  {
   "cell_type": "code",
   "execution_count": 44,
   "metadata": {},
   "outputs": [
    {
     "data": {
      "text/plain": [
       "Text(0.5, 1.0, 'Movement')"
      ]
     },
     "execution_count": 44,
     "metadata": {},
     "output_type": "execute_result"
    },
    {
     "data": {
      "image/png": "[encoded data removed]",
      "text/plain": [
       "<Figure size 432x288 with 1 Axes>"
      ]
     },
     "metadata": {
      "needs_background": "light"
     },
     "output_type": "display_data"
    }
   ],
   "source": [
    "plt.figure()\n",
    "for i in [x,y,z]:\n",
    "    plt.plot(i)\n",
    "plt.grid(True)\n",
    "plt.title('Movement')"
   ]
  },
  {
   "cell_type": "code",
   "execution_count": null,
   "metadata": {},
   "outputs": [],
   "source": []
  }
 ],
 "metadata": {
  "kernelspec": {
   "display_name": "Python 3",
   "language": "python",
   "name": "python3"
  },
  "language_info": {
   "codemirror_mode": {
    "name": "ipython",
    "version": 3
   },
   "file_extension": ".py",
   "mimetype": "text/x-python",
   "name": "python",
   "nbconvert_exporter": "python",
   "pygments_lexer": "ipython3",
   "version": "3.7.0"
  }
 },
 "nbformat": 4,
 "nbformat_minor": 2
}
